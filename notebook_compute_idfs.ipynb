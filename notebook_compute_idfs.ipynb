{
 "cells": [
  {
   "cell_type": "code",
   "execution_count": 4,
   "metadata": {},
   "outputs": [],
   "source": [
    "from questions import *\n",
    "import numpy as np"
   ]
  },
  {
   "cell_type": "code",
   "execution_count": 5,
   "metadata": {},
   "outputs": [],
   "source": [
    "files = load_files(\"./corpus/\") # Words mapped as one string.\n",
    "file_words = {\n",
    "    filename: tokenize(files[filename]) # Words tokenized mapped in list.\n",
    "    for filename in files\n",
    "}"
   ]
  },
  {
   "cell_type": "code",
   "execution_count": null,
   "metadata": {},
   "outputs": [],
   "source": [
    "print(file_words.keys())\n",
    "print(type(file_words[\"python.txt\"]))"
   ]
  },
  {
   "cell_type": "code",
   "execution_count": null,
   "metadata": {},
   "outputs": [],
   "source": [
    "# Calculate IDF for one word in list from file_words[\"python.txt\"]\n",
    " # check if word is already in dict\n",
    " # count appearence (at least once) of word in all the documents -> num_doc_containing\n",
    " # total_doc is len(files.keys())"
   ]
  },
  {
   "cell_type": "code",
   "execution_count": null,
   "metadata": {},
   "outputs": [],
   "source": [
    "word_1 = file_words[\"python.txt\"][0]\n",
    "print(word_1)"
   ]
  },
  {
   "cell_type": "code",
   "execution_count": null,
   "metadata": {},
   "outputs": [],
   "source": [
    "total_documents = len(file_words.keys())\n",
    "print(total_documents)"
   ]
  },
  {
   "cell_type": "code",
   "execution_count": null,
   "metadata": {},
   "outputs": [],
   "source": [
    "# Convert list of words to sets. So we only have to calculate each word once.\n",
    "# Convert list of python.txt to set.\n",
    "\n",
    "set_python_txt = set(file_words[\"python.txt\"])\n",
    "len(set_python_txt)"
   ]
  },
  {
   "cell_type": "code",
   "execution_count": 6,
   "metadata": {},
   "outputs": [],
   "source": [
    "set_all_words = set()\n",
    "for document in file_words:\n",
    "    set_all_words.update(set(file_words[document]))"
   ]
  },
  {
   "cell_type": "code",
   "execution_count": 7,
   "metadata": {},
   "outputs": [
    {
     "name": "stdout",
     "output_type": "stream",
     "text": [
      "5777\n"
     ]
    }
   ],
   "source": [
    "# Convert set_all_words to a list with all words\n",
    "list_all_words = list(set_all_words)\n",
    "print(len(list_all_words))"
   ]
  },
  {
   "cell_type": "code",
   "execution_count": null,
   "metadata": {},
   "outputs": [],
   "source": [
    "word_1 = list_all_words[0]\n",
    "word_1 in file_words[\"python.txt\"]"
   ]
  },
  {
   "cell_type": "code",
   "execution_count": null,
   "metadata": {},
   "outputs": [],
   "source": [
    "count_test_1 = 0\n",
    "for word_n in list_all_words:\n",
    "    if word_n in file_words[\"python.txt\"]:\n",
    "        count_test_1 += 1"
   ]
  },
  {
   "cell_type": "code",
   "execution_count": null,
   "metadata": {},
   "outputs": [],
   "source": [
    "list_all_words.index(\"python\")"
   ]
  },
  {
   "cell_type": "code",
   "execution_count": null,
   "metadata": {},
   "outputs": [],
   "source": [
    "list_all_words[4690] in file_words[\"python.txt\"]"
   ]
  },
  {
   "cell_type": "code",
   "execution_count": 8,
   "metadata": {},
   "outputs": [],
   "source": [
    "def num_doc_contain(word, documents):\n",
    "    \"\"\"\n",
    "    Takes a word and returns a number of in how many documents the word appears.\n",
    "\n",
    "    Args:\n",
    "        word (string): Word that appears at least once in one of the corpus' documents.\n",
    "        documents (dictionary): List of all document's words mapped to the document's name\n",
    "    \"\"\"\n",
    "    count_document_containing = 0\n",
    "    \n",
    "    for document in file_words:\n",
    "        if word in file_words[document]:\n",
    "            count_document_containing += 1\n",
    "            \n",
    "    return count_document_containing\n",
    "    "
   ]
  },
  {
   "cell_type": "code",
   "execution_count": null,
   "metadata": {},
   "outputs": [],
   "source": [
    "num_doc_contain(\"history\", file_words)"
   ]
  },
  {
   "cell_type": "code",
   "execution_count": 9,
   "metadata": {},
   "outputs": [],
   "source": [
    "# Create dictionary\n",
    "idfs = dict()\n",
    "total_documents = len(file_words.keys())\n",
    "\n",
    "for word in list_all_words:\n",
    "    idfs[word] = np.log(\n",
    "        total_documents / num_doc_contain(word, file_words)\n",
    "    )\n"
   ]
  },
  {
   "cell_type": "code",
   "execution_count": null,
   "metadata": {},
   "outputs": [],
   "source": [
    "# Check for value = 0\n",
    "# log(1) = 0\n",
    "dict_zeros = {}\n",
    "for word in idfs:\n",
    "    if idfs[word] == 0:\n",
    "        dict_zeros[word] = 0"
   ]
  },
  {
   "cell_type": "markdown",
   "metadata": {},
   "source": [
    "# Test implementation"
   ]
  },
  {
   "cell_type": "code",
   "execution_count": 1,
   "metadata": {},
   "outputs": [],
   "source": [
    "from questions import *"
   ]
  },
  {
   "cell_type": "code",
   "execution_count": 2,
   "metadata": {},
   "outputs": [],
   "source": [
    "# Calculate IDF values across files\n",
    "files = load_files(\"./corpus\") # Load file into memory.\n",
    "file_words = {\n",
    "    filename: tokenize(files[filename]) # Tokenize into list of words.\n",
    "    for filename in files\n",
    "}\n",
    "# file_idfs = compute_idfs(file_words) # Compute inverse document frequency values for each word."
   ]
  },
  {
   "cell_type": "code",
   "execution_count": 3,
   "metadata": {},
   "outputs": [],
   "source": [
    "file_idfs = compute_idfs(file_words)"
   ]
  },
  {
   "cell_type": "code",
   "execution_count": 10,
   "metadata": {},
   "outputs": [
    {
     "data": {
      "text/plain": [
       "True"
      ]
     },
     "execution_count": 10,
     "metadata": {},
     "output_type": "execute_result"
    }
   ],
   "source": [
    "file_idfs == idfs"
   ]
  },
  {
   "cell_type": "code",
   "execution_count": null,
   "metadata": {},
   "outputs": [],
   "source": []
  }
 ],
 "metadata": {
  "kernelspec": {
   "display_name": "Python 3.10.6 ('base')",
   "language": "python",
   "name": "python3"
  },
  "language_info": {
   "codemirror_mode": {
    "name": "ipython",
    "version": 3
   },
   "file_extension": ".py",
   "mimetype": "text/x-python",
   "name": "python",
   "nbconvert_exporter": "python",
   "pygments_lexer": "ipython3",
   "version": "3.10.6"
  },
  "orig_nbformat": 4,
  "vscode": {
   "interpreter": {
    "hash": "51aac96a1ad50adc7d4a1a596256386b3ce94cd59070594d461c13d85ed1cee1"
   }
  }
 },
 "nbformat": 4,
 "nbformat_minor": 2
}
