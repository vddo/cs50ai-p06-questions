{
 "cells": [
  {
   "cell_type": "code",
   "execution_count": null,
   "metadata": {},
   "outputs": [],
   "source": [
    "from questions import load_files\n",
    "from nltk.tokenize import word_tokenize\n",
    "from nltk.tokenize import RegexpTokenizer\n",
    "import string\n",
    "\n",
    "dir = \"./corpus/\""
   ]
  },
  {
   "cell_type": "code",
   "execution_count": null,
   "metadata": {},
   "outputs": [],
   "source": [
    "a = load_files(dir)"
   ]
  },
  {
   "cell_type": "code",
   "execution_count": null,
   "metadata": {},
   "outputs": [],
   "source": [
    "tokenized = word_tokenize(a[\"python.txt\"])"
   ]
  },
  {
   "cell_type": "code",
   "execution_count": null,
   "metadata": {},
   "outputs": [],
   "source": [
    "tokenized"
   ]
  },
  {
   "cell_type": "code",
   "execution_count": null,
   "metadata": {},
   "outputs": [],
   "source": [
    "file_words = dict()\n",
    "for i in a:\n",
    "    file_words[i] = word_tokenize(a[i])"
   ]
  },
  {
   "cell_type": "code",
   "execution_count": null,
   "metadata": {},
   "outputs": [],
   "source": [
    "file_words.keys()"
   ]
  },
  {
   "cell_type": "code",
   "execution_count": null,
   "metadata": {},
   "outputs": [],
   "source": [
    "print(type(file_words[\"python.txt\"]))\n",
    "print(len(file_words[\"python.txt\"]))"
   ]
  },
  {
   "cell_type": "code",
   "execution_count": null,
   "metadata": {},
   "outputs": [],
   "source": [
    "returnedFileList = list(map(lambda x: x.lower(), file_words))"
   ]
  },
  {
   "cell_type": "code",
   "execution_count": null,
   "metadata": {},
   "outputs": [],
   "source": [
    "returnedFileList"
   ]
  },
  {
   "cell_type": "code",
   "execution_count": null,
   "metadata": {},
   "outputs": [],
   "source": [
    "file_words = dict()\n",
    "for i in a:\n",
    "    file_words[i] = list(map(lambda x: x.lower(), word_tokenize(a[i])))"
   ]
  },
  {
   "cell_type": "code",
   "execution_count": null,
   "metadata": {},
   "outputs": [],
   "source": [
    "file_words.keys()"
   ]
  },
  {
   "cell_type": "code",
   "execution_count": null,
   "metadata": {},
   "outputs": [],
   "source": [
    "file_words[\"python.txt\"]"
   ]
  },
  {
   "cell_type": "markdown",
   "metadata": {},
   "source": [
    "Filter out punctuations and stopwords.\n",
    "see: https://www.mygreatlearning.com/blog/nltk-tutorial-with-python/"
   ]
  },
  {
   "cell_type": "code",
   "execution_count": null,
   "metadata": {},
   "outputs": [],
   "source": [
    "tokenizer = RegexpTokenizer(r'\\w+')"
   ]
  },
  {
   "cell_type": "code",
   "execution_count": null,
   "metadata": {},
   "outputs": [],
   "source": [
    "docPython = a[\"python.txt\"]"
   ]
  },
  {
   "cell_type": "code",
   "execution_count": null,
   "metadata": {},
   "outputs": [],
   "source": [
    "docPython"
   ]
  },
  {
   "cell_type": "code",
   "execution_count": null,
   "metadata": {},
   "outputs": [],
   "source": [
    "tokenizer.tokenize(docPython)"
   ]
  },
  {
   "cell_type": "code",
   "execution_count": null,
   "metadata": {},
   "outputs": [],
   "source": [
    "para=\"\"\"Cake is a form of sweet food made from flour, sugar, and other ingredients, that is usually baked.\n",
    "In their oldest forms, cakes were modifications of bread, but cakes now cover a wide range of preparations \n",
    "that can be simple or elaborate, and that share features with other desserts such as pastries, meringues, custards, \n",
    "and pies.\"\"\""
   ]
  },
  {
   "cell_type": "code",
   "execution_count": null,
   "metadata": {},
   "outputs": [],
   "source": [
    "para"
   ]
  },
  {
   "cell_type": "code",
   "execution_count": null,
   "metadata": {},
   "outputs": [],
   "source": [
    "import nltk\n",
    "nltk.download('stopwords')"
   ]
  },
  {
   "cell_type": "code",
   "execution_count": null,
   "metadata": {},
   "outputs": [],
   "source": [
    "from nltk.corpus import stopwords\n",
    "from nltk.tokenize import word_tokenize\n",
    "to_be_removed = set(stopwords.words('english'))"
   ]
  },
  {
   "cell_type": "code",
   "execution_count": null,
   "metadata": {},
   "outputs": [],
   "source": [
    "tokenized_para=word_tokenize(para)\n",
    "print(tokenized_para)\n"
   ]
  },
  {
   "cell_type": "code",
   "execution_count": null,
   "metadata": {},
   "outputs": [],
   "source": [
    "modified_token_list=[word for word in tokenized_para if not word in to_be_removed]\n",
    "print(modified_token_list)"
   ]
  },
  {
   "cell_type": "code",
   "execution_count": null,
   "metadata": {},
   "outputs": [],
   "source": [
    "# Tokenizer for removing punctuations\n",
    "punct_tokenizer = RegexpTokenizer(r'\\w+')\n",
    "\n",
    "# Set of stopwords that need to be removed\n",
    "to_be_removed = set(stopwords.words('english'))"
   ]
  },
  {
   "cell_type": "code",
   "execution_count": null,
   "metadata": {},
   "outputs": [],
   "source": [
    "# Mapping lowercased tokenized words of doc where punctuations are removed.\n",
    "fileWords = dict()\n",
    "for i in a:\n",
    "    fileWords[i] = list(map(lambda x: x.lower(), punct_tokenizer.tokenize(a[i])))"
   ]
  },
  {
   "cell_type": "code",
   "execution_count": null,
   "metadata": {},
   "outputs": [],
   "source": [
    "fileWords.keys()"
   ]
  },
  {
   "cell_type": "code",
   "execution_count": null,
   "metadata": {},
   "outputs": [],
   "source": [
    "len(fileWords[\"python.txt\"])"
   ]
  },
  {
   "cell_type": "code",
   "execution_count": null,
   "metadata": {},
   "outputs": [],
   "source": [
    "# Mapping lowercased tokenized words of doc where punctuation and stopwords are removed.\n",
    "file_words = dict()\n",
    "for doc in a:\n",
    "    file_words[doc] = list(\n",
    "        map(\n",
    "            lambda x: x.lower(), [word for word in punct_tokenizer.tokenize(a[doc]) \\\n",
    "                if not word in to_be_removed]\n",
    "        )\n",
    "    )"
   ]
  },
  {
   "cell_type": "code",
   "execution_count": null,
   "metadata": {},
   "outputs": [],
   "source": [
    "file_words.keys()"
   ]
  },
  {
   "cell_type": "code",
   "execution_count": null,
   "metadata": {},
   "outputs": [],
   "source": [
    "len(file_words[\"python.txt\"])"
   ]
  },
  {
   "cell_type": "code",
   "execution_count": null,
   "metadata": {},
   "outputs": [],
   "source": [
    "# The mapping into a dictionary is not needed.\n",
    "# Output: a list with tokenized where punctuations and stopwords are removed\n",
    "# and the words are lowercased.\n",
    "\n",
    "b = list(map(\n",
    "    lambda x: x.lower(), [word for word in punct_tokenizer.tokenize(a[\"python.txt\"]) \\\n",
    "        if not word in to_be_removed]\n",
    "))"
   ]
  },
  {
   "cell_type": "code",
   "execution_count": null,
   "metadata": {},
   "outputs": [],
   "source": [
    "print(len(b))\n",
    "type(b)"
   ]
  },
  {
   "cell_type": "markdown",
   "metadata": {},
   "source": [
    "# Test implementation"
   ]
  },
  {
   "cell_type": "code",
   "execution_count": 1,
   "metadata": {},
   "outputs": [],
   "source": [
    "from questions import *"
   ]
  },
  {
   "cell_type": "code",
   "execution_count": 2,
   "metadata": {},
   "outputs": [],
   "source": [
    "dir = \"./corpus/\"\n",
    "files = load_files(dir)"
   ]
  },
  {
   "cell_type": "code",
   "execution_count": 3,
   "metadata": {},
   "outputs": [],
   "source": [
    "file_words = {\n",
    "    filename: tokenize(files[filename]) # Tokenize into list of words.\n",
    "    for filename in files\n",
    "}"
   ]
  },
  {
   "cell_type": "code",
   "execution_count": 5,
   "metadata": {},
   "outputs": [
    {
     "name": "stdout",
     "output_type": "stream",
     "text": [
      "dict_keys(['probability.txt', 'python.txt', 'natural_language_processing.txt', 'artificial_intelligence.txt', 'neural_network.txt', 'machine_learning.txt'])\n",
      "6\n"
     ]
    }
   ],
   "source": [
    "print(file_words.keys())\n",
    "print(len(file_words.keys()))"
   ]
  },
  {
   "cell_type": "code",
   "execution_count": 18,
   "metadata": {},
   "outputs": [
    {
     "name": "stdout",
     "output_type": "stream",
     "text": [
      "23\n",
      "4038\n",
      "['https', 'en', 'wikipedia', 'org', 'wiki', 'machine_learning', 'machine', 'learning', 'ml', 'study', 'computer', 'algorithms', 'improve', 'automatically', 'experience', 'it', 'seen', 'subset', 'artificial', 'intelligence', 'machine', 'learning', 'algorithms', 'build', 'mathematical', 'model', 'based', 'sample', 'data', 'known', 'training', 'data', 'order', 'make', 'predictions', 'decisions', 'without', 'explicitly', 'programmed', 'machine', 'learning', 'algorithms', 'used', 'wide', 'variety', 'applications', 'email', 'filtering', 'computer', 'vision', 'difficult', 'infeasible', 'develop', 'conventional', 'algorithms', 'perform', 'needed', 'tasks', 'machine', 'learning', 'closely', 'related', 'computational', 'statistics', 'focuses', 'making', 'predictions', 'using', 'computers', 'the', 'study', 'mathematical', 'optimization', 'delivers', 'methods', 'theory', 'application', 'domains', 'field', 'machine', 'learning', 'data', 'mining', 'related', 'field', 'study', 'focusing', 'exploratory', 'data', 'analysis', 'unsupervised', 'learning', 'in', 'application', 'across', 'business', 'problems', 'machine', 'learning', 'also', 'referred', 'predictive', 'analytics', 'overview', 'machine', 'learning', 'involves', 'computers', 'discovering', 'perform', 'tasks', 'without', 'explicitly', 'programmed', 'for', 'early', 'tasks', 'humans', 'assigned', 'computers', 'possible', 'create', 'algorithms', 'telling', 'machine', 'execute', 'needed', 'steps', 'solve', 'problem', 'hand', 'so', 'computer', 'part', 'learning', 'needed', 'for', 'advanced', 'tasks', 'challenging', 'human', 'manually', 'create', 'needed', 'algorithms', 'in', 'practice', 'turn', 'effective', 'help', 'machine', 'develop', 'algorithm', 'rather', 'human', 'programmers', 'specify', 'every', 'needed', 'step', 'the', 'discipline', 'machine', 'learning', 'employs', 'various', 'approaches', 'help', 'computers', 'learn', 'accomplish', 'tasks', 'fully', 'satisfactory', 'algorithm', 'exists', 'for', 'example', 'cases', 'vast', 'numbers', 'potential', 'answers', 'exist', 'correct', 'ones', 'labelled', 'valid', 'used', 'training', 'data', 'computer', 'improve', 'algorithm', 'uses', 'determine', 'correct', 'answers', 'machine', 'learning', 'approaches', 'early', 'classifications', 'machine', 'learning', 'approaches', 'sometimes', 'divided', 'three', 'broad', 'categories', 'depending', 'nature', 'signal', 'feedback', 'available', 'learning', 'system', 'these', 'supervised', 'learning', 'the', 'computer', 'presented', 'example', 'inputs', 'desired', 'outputs', 'given', 'teacher', 'goal', 'learn', 'general', 'rule', 'maps', 'inputs', 'outputs', 'unsupervised', 'learning', 'no', 'labels', 'given', 'learning', 'algorithm', 'leaving', 'find', 'structure', 'input', 'unsupervised', 'learning', 'goal', 'discovering', 'hidden', 'patterns', 'data', 'means', 'towards', 'end', 'feature', 'learning', 'reinforcement', 'learning', 'a', 'computer', 'program', 'interacts', 'dynamic', 'environment', 'must', 'perform', 'certain', 'goal', 'driving', 'vehicle', 'playing', 'game', 'opponent', 'as', 'navigates', 'problem', 'space', 'program', 'provided', 'feedback', 'analogous', 'rewards', 'tries', 'maximise', 'other', 'approaches', 'processes', 'since', 'developed', 'fit', 'neatly', 'three', 'fold', 'categorisation', 'sometimes', 'one', 'used', 'machine', 'learning', 'system', 'for', 'example', 'topic', 'modeling', 'dimensionality', 'reduction', 'meta', 'learning', 'as', '2020', 'deep', 'learning', 'become', 'dominant', 'approach', 'much', 'ongoing', 'work', 'field', 'machine', 'learning', 'history', 'relationships', 'fields', 'the', 'term', 'machine', 'learning', 'coined', '1959', 'arthur', 'samuel', 'american', 'ibmer', 'pioneer', 'field', 'computer', 'gaming', 'artificial', 'intelligence', 'a', 'representative', 'book', 'machine', 'learning', 'research', '1960s', 'nilsson', 'book', 'learning', 'machines', 'dealing', 'mostly', 'machine', 'learning', 'pattern', 'classification', 'interest', 'related', 'pattern', 'recognition', 'continued', '1970s', 'described', 'duda', 'hart', '1973', 'in', '1981', 'report', 'given', 'using', 'teaching', 'strategies', 'neural', 'network', 'learns', 'recognize', '40', 'characters', '26', 'letters', '10', 'digits', '4', 'special', 'symbols', 'computer', 'terminal', 'tom', 'm', 'mitchell', 'provided', 'widely', 'quoted', 'formal', 'definition', 'algorithms', 'studied', 'machine', 'learning', 'field', 'a', 'computer', 'program', 'said', 'learn', 'experience', 'e', 'respect', 'class', 'tasks', 't', 'performance', 'measure', 'p', 'performance', 'tasks', 't', 'measured', 'p', 'improves', 'experience', 'e', 'this', 'definition', 'tasks', 'machine', 'learning', 'concerned', 'offers', 'fundamentally', 'operational', 'definition', 'rather', 'defining', 'field', 'cognitive', 'terms', 'this', 'follows', 'alan', 'turing', 'proposal', 'paper', 'computing', 'machinery', 'intelligence', 'question', 'can', 'machines', 'think', 'replaced', 'question', 'can', 'machines', 'thinking', 'entities', 'relation', 'artificial', 'intelligence', 'as', 'scientific', 'endeavor', 'machine', 'learning', 'grew', 'quest', 'artificial', 'intelligence', 'in', 'early', 'days', 'ai', 'academic', 'discipline', 'researchers', 'interested', 'machines', 'learn', 'data', 'they', 'attempted', 'approach', 'problem', 'various', 'symbolic', 'methods', 'well', 'termed', 'neural', 'networks', 'mostly', 'perceptrons', 'models', 'later', 'found', 'reinventions', 'generalized', 'linear', 'models', 'statistics', 'probabilistic', 'reasoning', 'also', 'employed', 'especially', 'automated', 'medical', 'diagnosis', 'however', 'increasing', 'emphasis', 'logical', 'knowledge', 'based', 'approach', 'caused', 'rift', 'ai', 'machine', 'learning', 'probabilistic', 'systems', 'plagued', 'theoretical', 'practical', 'problems', 'data', 'acquisition', 'representation', 'by', '1980', 'expert', 'systems', 'come', 'dominate', 'ai', 'statistics', 'favor', 'work', 'symbolic', 'knowledge', 'based', 'learning', 'continue', 'within', 'ai', 'leading', 'inductive', 'logic', 'programming', 'statistical', 'line', 'research', 'outside', 'field', 'ai', 'proper', 'pattern', 'recognition', 'information', 'retrieval', 'neural', 'networks', 'research', 'abandoned', 'ai', 'computer', 'science', 'around', 'time', 'this', 'line', 'continued', 'outside', 'ai', 'cs', 'field', 'connectionism', 'researchers', 'disciplines', 'including', 'hopfield', 'rumelhart', 'hinton', 'their', 'main', 'success', 'came', 'mid', '1980s', 'reinvention', 'backpropagation', 'machine', 'learning', 'reorganized', 'separate', 'field', 'started', 'flourish', '1990s', 'the', 'field', 'changed', 'goal', 'achieving', 'artificial', 'intelligence', 'tackling', 'solvable', 'problems', 'practical', 'nature', 'it', 'shifted', 'focus', 'away', 'symbolic', 'approaches', 'inherited', 'ai', 'toward', 'methods', 'models', 'borrowed', 'statistics', 'probability', 'theory', 'as', '2019', 'many', 'sources', 'continue', 'assert', 'machine', 'learning', 'remains', 'sub', 'field', 'ai', 'yet', 'practitioners', 'example', 'dr', 'daniel', 'hulme', 'teaches', 'ai', 'runs', 'company', 'operating', 'field', 'argues', 'machine', 'learning', 'ai', 'separate', 'relation', 'data', 'mining', 'machine', 'learning', 'data', 'mining', 'often', 'employ', 'methods', 'overlap', 'significantly', 'machine', 'learning', 'focuses', 'prediction', 'based', 'known', 'properties', 'learned', 'training', 'data', 'data', 'mining', 'focuses', 'discovery', 'previously', 'unknown', 'properties', 'data', 'analysis', 'step', 'knowledge', 'discovery', 'databases', 'data', 'mining', 'uses', 'many', 'machine', 'learning', 'methods', 'different', 'goals', 'hand', 'machine', 'learning', 'also', 'employs', 'data', 'mining', 'methods', 'unsupervised', 'learning', 'preprocessing', 'step', 'improve', 'learner', 'accuracy', 'much', 'confusion', 'two', 'research', 'communities', 'often', 'separate', 'conferences', 'separate', 'journals', 'ecml', 'pkdd', 'major', 'exception', 'comes', 'basic', 'assumptions', 'work', 'machine', 'learning', 'performance', 'usually', 'evaluated', 'respect', 'ability', 'reproduce', 'known', 'knowledge', 'knowledge', 'discovery', 'data', 'mining', 'kdd', 'key', 'task', 'discovery', 'previously', 'unknown', 'knowledge', 'evaluated', 'respect', 'known', 'knowledge', 'uninformed', 'unsupervised', 'method', 'easily', 'outperformed', 'supervised', 'methods', 'typical', 'kdd', 'task', 'supervised', 'methods', 'cannot', 'used', 'due', 'unavailability', 'training', 'data', 'relation', 'optimization', 'machine', 'learning', 'also', 'intimate', 'ties', 'optimization', 'many', 'learning', 'problems', 'formulated', 'minimization', 'loss', 'function', 'training', 'set', 'examples', 'loss', 'functions', 'express', 'discrepancy', 'predictions', 'model', 'trained', 'actual', 'problem', 'instances', 'example', 'classification', 'one', 'wants', 'assign', 'label', 'instances', 'models', 'trained', 'correctly', 'predict', 'pre', 'assigned', 'labels', 'set', 'examples', 'the', 'difference', 'two', 'fields', 'arises', 'goal', 'generalization', 'optimization', 'algorithms', 'minimize', 'loss', 'training', 'set', 'machine', 'learning', 'concerned', 'minimizing', 'loss', 'unseen', 'samples', 'relation', 'statistics', 'machine', 'learning', 'statistics', 'closely', 'related', 'fields', 'terms', 'methods', 'distinct', 'principal', 'goal', 'statistics', 'draws', 'population', 'inferences', 'sample', 'machine', 'learning', 'finds', 'generalizable', 'predictive', 'patterns', 'according', 'michael', 'i', 'jordan', 'ideas', 'machine', 'learning', 'methodological', 'principles', 'theoretical', 'tools', 'long', 'pre', 'history', 'statistics', 'he', 'also', 'suggested', 'term', 'data', 'science', 'placeholder', 'call', 'overall', 'field', 'leo', 'breiman', 'distinguished', 'two', 'statistical', 'modeling', 'paradigms', 'data', 'model', 'algorithmic', 'model', 'wherein', 'algorithmic', 'model', 'means', 'less', 'machine', 'learning', 'algorithms', 'like', 'random', 'forest', 'some', 'statisticians', 'adopted', 'methods', 'machine', 'learning', 'leading', 'combined', 'field', 'call', 'statistical', 'learning', 'theory', 'a', 'core', 'objective', 'learner', 'generalize', 'experience', 'generalization', 'context', 'ability', 'learning', 'machine', 'perform', 'accurately', 'new', 'unseen', 'examples', 'tasks', 'experienced', 'learning', 'data', 'set', 'the', 'training', 'examples', 'come', 'generally', 'unknown', 'probability', 'distribution', 'considered', 'representative', 'space', 'occurrences', 'learner', 'build', 'general', 'model', 'space', 'enables', 'produce', 'sufficiently', 'accurate', 'predictions', 'new', 'cases', 'the', 'computational', 'analysis', 'machine', 'learning', 'algorithms', 'performance', 'branch', 'theoretical', 'computer', 'science', 'known', 'computational', 'learning', 'theory', 'because', 'training', 'sets', 'finite', 'future', 'uncertain', 'learning', 'theory', 'usually', 'yield', 'guarantees', 'performance', 'algorithms', 'instead', 'probabilistic', 'bounds', 'performance', 'quite', 'common', 'the', 'bias', 'variance', 'decomposition', 'one', 'way', 'quantify', 'generalization', 'error', 'for', 'best', 'performance', 'context', 'generalization', 'complexity', 'hypothesis', 'match', 'complexity', 'function', 'underlying', 'data', 'if', 'hypothesis', 'less', 'complex', 'function', 'model', 'fitted', 'data', 'if', 'complexity', 'model', 'increased', 'response', 'training', 'error', 'decreases', 'but', 'hypothesis', 'complex', 'model', 'subject', 'overfitting', 'generalization', 'poorer', 'in', 'addition', 'performance', 'bounds', 'learning', 'theorists', 'study', 'time', 'complexity', 'feasibility', 'learning', 'in', 'computational', 'learning', 'theory', 'computation', 'considered', 'feasible', 'done', 'polynomial', 'time', 'there', 'two', 'kinds', 'time', 'complexity', 'results', 'positive', 'results', 'show', 'certain', 'class', 'functions', 'learned', 'polynomial', 'time', 'negative', 'results', 'show', 'certain', 'classes', 'cannot', 'learned', 'polynomial', 'time', 'approaches', 'types', 'learning', 'algorithms', 'the', 'types', 'machine', 'learning', 'algorithms', 'differ', 'approach', 'type', 'data', 'input', 'output', 'type', 'task', 'problem', 'intended', 'solve', 'supervised', 'learning', 'supervised', 'learning', 'algorithms', 'build', 'mathematical', 'model', 'set', 'data', 'contains', 'inputs', 'desired', 'outputs', 'the', 'data', 'known', 'training', 'data', 'consists', 'set', 'training', 'examples', 'each', 'training', 'example', 'one', 'inputs', 'desired', 'output', 'also', 'known', 'supervisory', 'signal', 'in', 'mathematical', 'model', 'training', 'example', 'represented', 'array', 'vector', 'sometimes', 'called', 'feature', 'vector', 'training', 'data', 'represented', 'matrix', 'through', 'iterative', 'optimization', 'objective', 'function', 'supervised', 'learning', 'algorithms', 'learn', 'function', 'used', 'predict', 'output', 'associated', 'new', 'inputs', 'an', 'optimal', 'function', 'allow', 'algorithm', 'correctly', 'determine', 'output', 'inputs', 'part', 'training', 'data', 'an', 'algorithm', 'improves', 'accuracy', 'outputs', 'predictions', 'time', 'said', 'learned', 'perform', 'task', 'types', 'supervised', 'learning', 'algorithms', 'include', 'active', 'learning', 'classification', 'regression', 'classification', 'algorithms', 'used', 'outputs', 'restricted', 'limited', 'set', 'values', 'regression', 'algorithms', 'used', 'outputs', 'may', 'numerical', 'value', 'within', 'range', 'as', 'example', 'classification', 'algorithm', 'filters', 'emails', 'input', 'would', 'incoming', 'email', 'output', 'would', 'name', 'folder', 'file', 'email', 'similarity', 'learning', 'area', 'supervised', 'machine', 'learning', 'closely', 'related', 'regression', 'classification', 'goal', 'learn', 'examples', 'using', 'similarity', 'function', 'measures', 'similar', 'related', 'two', 'objects', 'it', 'applications', 'ranking', 'recommendation', 'systems', 'visual', 'identity', 'tracking', 'face', 'verification', 'speaker', 'verification', 'unsupervised', 'learning', 'unsupervised', 'learning', 'algorithms', 'take', 'set', 'data', 'contains', 'inputs', 'find', 'structure', 'data', 'like', 'grouping', 'clustering', 'data', 'points', 'the', 'algorithms', 'therefore', 'learn', 'test', 'data', 'labeled', 'classified', 'categorized', 'instead', 'responding', 'feedback', 'unsupervised', 'learning', 'algorithms', 'identify', 'commonalities', 'data', 'react', 'based', 'presence', 'absence', 'commonalities', 'new', 'piece', 'data', 'a', 'central', 'application', 'unsupervised', 'learning', 'field', 'density', 'estimation', 'statistics', 'finding', 'probability', 'density', 'function', 'though', 'unsupervised', 'learning', 'encompasses', 'domains', 'involving', 'summarizing', 'explaining', 'data', 'features', 'cluster', 'analysis', 'assignment', 'set', 'observations', 'subsets', 'called', 'clusters', 'observations', 'within', 'cluster', 'similar', 'according', 'one', 'predesignated', 'criteria', 'observations', 'drawn', 'different', 'clusters', 'dissimilar', 'different', 'clustering', 'techniques', 'make', 'different', 'assumptions', 'structure', 'data', 'often', 'defined', 'similarity', 'metric', 'evaluated', 'example', 'internal', 'compactness', 'similarity', 'members', 'cluster', 'separation', 'difference', 'clusters', 'other', 'methods', 'based', 'estimated', 'density', 'graph', 'connectivity', 'semi', 'supervised', 'learning', 'semi', 'supervised', 'learning', 'falls', 'unsupervised', 'learning', 'without', 'labeled', 'training', 'data', 'supervised', 'learning', 'completely', 'labeled', 'training', 'data', 'some', 'training', 'examples', 'missing', 'training', 'labels', 'yet', 'many', 'machine', 'learning', 'researchers', 'found', 'unlabeled', 'data', 'used', 'conjunction', 'small', 'amount', 'labeled', 'data', 'produce', 'considerable', 'improvement', 'learning', 'accuracy', 'in', 'weakly', 'supervised', 'learning', 'training', 'labels', 'noisy', 'limited', 'imprecise', 'however', 'labels', 'often', 'cheaper', 'obtain', 'resulting', 'larger', 'effective', 'training', 'sets', 'reinforcement', 'learning', 'reinforcement', 'learning', 'area', 'machine', 'learning', 'concerned', 'software', 'agents', 'ought', 'take', 'actions', 'environment', 'maximize', 'notion', 'cumulative', 'reward', 'due', 'generality', 'field', 'studied', 'many', 'disciplines', 'game', 'theory', 'control', 'theory', 'operations', 'research', 'information', 'theory', 'simulation', 'based', 'optimization', 'multi', 'agent', 'systems', 'swarm', 'intelligence', 'statistics', 'genetic', 'algorithms', 'in', 'machine', 'learning', 'environment', 'typically', 'represented', 'markov', 'decision', 'process', 'mdp', 'many', 'reinforcement', 'learning', 'algorithms', 'use', 'dynamic', 'programming', 'techniques', 'reinforcement', 'learning', 'algorithms', 'assume', 'knowledge', 'exact', 'mathematical', 'model', 'mdp', 'used', 'exact', 'models', 'infeasible', 'reinforcement', 'learning', 'algorithms', 'used', 'autonomous', 'vehicles', 'learning', 'play', 'game', 'human', 'opponent', 'self', 'learning', 'self', 'learning', 'machine', 'learning', 'paradigm', 'introduced', '1982', 'along', 'neural', 'network', 'capable', 'self', 'learning', 'named', 'crossbar', 'adaptive', 'array', 'caa', 'it', 'learning', 'external', 'rewards', 'external', 'teacher', 'advices', 'the', 'caa', 'self', 'learning', 'algorithm', 'computes', 'crossbar', 'fashion', 'decisions', 'actions', 'emotions', 'feelings', 'consequence', 'situations', 'the', 'system', 'driven', 'interaction', 'cognition', 'emotion', 'the', 'self', 'learning', 'algorithm', 'updates', 'memory', 'matrix', 'w', 'w', 'iteration', 'executes', 'following', 'machine', 'learning', 'routine', 'in', 'situation', 'perform', 'action', 'receive', 'consequence', 'situation', 'compute', 'emotion', 'consequence', 'situation', 'v', 'update', 'crossbar', 'memory', 'w', 'w', 'v', 'it', 'system', 'one', 'input', 'situation', 'one', 'output', 'action', 'behavior', 'there', 'neither', 'separate', 'reinforcement', 'input', 'advice', 'input', 'environment', 'the', 'backpropagated', 'value', 'secondary', 'reinforcement', 'emotion', 'toward', 'consequence', 'situation', 'the', 'caa', 'exists', 'two', 'environments', 'one', 'behavioral', 'environment', 'behaves', 'genetic', 'environment', 'wherefrom', 'initially', 'receives', 'initial', 'emotions', 'situations', 'encountered', 'behavioral', 'environment', 'after', 'receiving', 'genome', 'species', 'vector', 'genetic', 'environment', 'caa', 'learns', 'goal', 'seeking', 'behavior', 'environment', 'contains', 'desirable', 'undesirable', 'situations', 'feature', 'learning', 'several', 'learning', 'algorithms', 'aim', 'discovering', 'better', 'representations', 'inputs', 'provided', 'training', 'classic', 'examples', 'include', 'principal', 'components', 'analysis', 'cluster', 'analysis', 'feature', 'learning', 'algorithms', 'also', 'called', 'representation', 'learning', 'algorithms', 'often', 'attempt', 'preserve', 'information', 'input', 'also', 'transform', 'way', 'makes', 'useful', 'often', 'pre', 'processing', 'step', 'performing', 'classification', 'predictions', 'this', 'technique', 'allows', 'reconstruction', 'inputs', 'coming', 'unknown', 'data', 'generating', 'distribution', 'necessarily', 'faithful', 'configurations', 'implausible', 'distribution', 'this', 'replaces', 'manual', 'feature', 'engineering', 'allows', 'machine', 'learn', 'features', 'use', 'perform', 'specific', 'task', 'feature', 'learning', 'either', 'supervised', 'unsupervised', 'in', 'supervised', 'feature', 'learning', 'features', 'learned', 'using', 'labeled', 'input', 'data', 'examples', 'include', 'artificial', 'neural', 'networks', 'multilayer', 'perceptrons', 'supervised', 'dictionary', 'learning', 'in', 'unsupervised', 'feature', 'learning', 'features', 'learned', 'unlabeled', 'input', 'data', 'examples', 'include', 'dictionary', 'learning', 'independent', 'component', 'analysis', 'autoencoders', 'matrix', 'factorization', 'various', 'forms', 'clustering', 'manifold', 'learning', 'algorithms', 'attempt', 'constraint', 'learned', 'representation', 'low', 'dimensional', 'sparse', 'coding', 'algorithms', 'attempt', 'constraint', 'learned', 'representation', 'sparse', 'meaning', 'mathematical', 'model', 'many', 'zeros', 'multilinear', 'subspace', 'learning', 'algorithms', 'aim', 'learn', 'low', 'dimensional', 'representations', 'directly', 'tensor', 'representations', 'multidimensional', 'data', 'without', 'reshaping', 'higher', 'dimensional', 'vectors', 'deep', 'learning', 'algorithms', 'discover', 'multiple', 'levels', 'representation', 'hierarchy', 'features', 'higher', 'level', 'abstract', 'features', 'defined', 'terms', 'generating', 'lower', 'level', 'features', 'it', 'argued', 'intelligent', 'machine', 'one', 'learns', 'representation', 'disentangles', 'underlying', 'factors', 'variation', 'explain', 'observed', 'data', 'feature', 'learning', 'motivated', 'fact', 'machine', 'learning', 'tasks', 'classification', 'often', 'require', 'input', 'mathematically', 'computationally', 'convenient', 'process', 'however', 'real', 'world', 'data', 'images', 'video', 'sensory', 'data', 'yielded', 'attempts', 'algorithmically', 'define', 'specific', 'features', 'an', 'alternative', 'discover', 'features', 'representations', 'examination', 'without', 'relying', 'explicit', 'algorithms', 'sparse', 'dictionary', 'learning', 'sparse', 'dictionary', 'learning', 'feature', 'learning', 'method', 'training', 'example', 'represented', 'linear', 'combination', 'basis', 'functions', 'assumed', 'sparse', 'matrix', 'the', 'method', 'strongly', 'np', 'hard', 'difficult', 'solve', 'approximately', 'a', 'popular', 'heuristic', 'method', 'sparse', 'dictionary', 'learning', 'k', 'svd', 'algorithm', 'sparse', 'dictionary', 'learning', 'applied', 'several', 'contexts', 'in', 'classification', 'problem', 'determine', 'class', 'previously', 'unseen', 'training', 'example', 'belongs', 'for', 'dictionary', 'class', 'already', 'built', 'new', 'training', 'example', 'associated', 'class', 'best', 'sparsely', 'represented', 'corresponding', 'dictionary', 'sparse', 'dictionary', 'learning', 'also', 'applied', 'image', 'de', 'noising', 'the', 'key', 'idea', 'clean', 'image', 'patch', 'sparsely', 'represented', 'image', 'dictionary', 'noise', 'cannot', 'anomaly', 'detection', 'in', 'data', 'mining', 'anomaly', 'detection', 'also', 'known', 'outlier', 'detection', 'identification', 'rare', 'items', 'events', 'observations', 'raise', 'suspicions', 'differing', 'significantly', 'majority', 'data', 'typically', 'anomalous', 'items', 'represent', 'issue', 'bank', 'fraud', 'structural', 'defect', 'medical', 'problems', 'errors', 'text', 'anomalies', 'referred', 'outliers', 'novelties', 'noise', 'deviations', 'exceptions', 'in', 'particular', 'context', 'abuse', 'network', 'intrusion', 'detection', 'interesting', 'objects', 'often', 'rare', 'objects', 'unexpected', 'bursts', 'activity', 'this', 'pattern', 'adhere', 'common', 'statistical', 'definition', 'outlier', 'rare', 'object', 'many', 'outlier', 'detection', 'methods', 'particular', 'unsupervised', 'algorithms', 'fail', 'data', 'unless', 'aggregated', 'appropriately', 'instead', 'cluster', 'analysis', 'algorithm', 'may', 'able', 'detect', 'micro', 'clusters', 'formed', 'patterns', 'three', 'broad', 'categories', 'anomaly', 'detection', 'techniques', 'exist', 'unsupervised', 'anomaly', 'detection', 'techniques', 'detect', 'anomalies', 'unlabeled', 'test', 'data', 'set', 'assumption', 'majority', 'instances', 'data', 'set', 'normal', 'looking', 'instances', 'seem', 'fit', 'least', 'remainder', 'data', 'set', 'supervised', 'anomaly', 'detection', 'techniques', 'require', 'data', 'set', 'labeled', 'normal', 'abnormal', 'involves', 'training', 'classifier', 'key', 'difference', 'many', 'statistical', 'classification', 'problems', 'inherently', 'unbalanced', 'nature', 'outlier', 'detection', 'semi', 'supervised', 'anomaly', 'detection', 'techniques', 'construct', 'model', 'representing', 'normal', 'behavior', 'given', 'normal', 'training', 'data', 'set', 'test', 'likelihood', 'test', 'instance', 'generated', 'model', 'robot', 'learning', 'in', 'developmental', 'robotics', 'robot', 'learning', 'algorithms', 'generate', 'sequences', 'learning', 'experiences', 'also', 'known', 'curriculum', 'cumulatively', 'acquire', 'new', 'skills', 'self', 'guided', 'exploration', 'social', 'interaction', 'humans', 'these', 'robots', 'use', 'guidance', 'mechanisms', 'active', 'learning', 'maturation', 'motor', 'synergies', 'imitation', 'association', 'rules', 'association', 'rule', 'learning', 'rule', 'based', 'machine', 'learning', 'method', 'discovering', 'relationships', 'variables', 'large', 'databases', 'it', 'intended', 'identify', 'strong', 'rules', 'discovered', 'databases', 'using', 'measure', 'interestingness', 'rule', 'based', 'machine', 'learning', 'general', 'term', 'machine', 'learning', 'method', 'identifies', 'learns', 'evolves', 'rules', 'store', 'manipulate', 'apply', 'knowledge', 'the', 'defining', 'characteristic', 'rule', 'based', 'machine', 'learning', 'algorithm', 'identification', 'utilization', 'set', 'relational', 'rules', 'collectively', 'represent', 'knowledge', 'captured', 'system', 'this', 'contrast', 'machine', 'learning', 'algorithms', 'commonly', 'identify', 'singular', 'model', 'universally', 'applied', 'instance', 'order', 'make', 'prediction', 'rule', 'based', 'machine', 'learning', 'approaches', 'include', 'learning', 'classifier', 'systems', 'association', 'rule', 'learning', 'artificial', 'immune', 'systems', 'based', 'concept', 'strong', 'rules', 'rakesh', 'agrawal', 'tomasz', 'imieliński', 'arun', 'swami', 'introduced', 'association', 'rules', 'discovering', 'regularities', 'products', 'large', 'scale', 'transaction', 'data', 'recorded', 'point', 'sale', 'pos', 'systems', 'supermarkets', 'for', 'example', 'rule', 'n', 'n', 'p', 'e', 'b', 'u', 'r', 'g', 'e', 'r', 'displaystyle', 'mathrm', 'onions', 'potatoes', 'rightarrow', 'mathrm', 'burger', 'found', 'sales', 'data', 'supermarket', 'would', 'indicate', 'customer', 'buys', 'onions', 'potatoes', 'together', 'likely', 'also', 'buy', 'hamburger', 'meat', 'such', 'information', 'used', 'basis', 'decisions', 'marketing', 'activities', 'promotional', 'pricing', 'product', 'placements', 'in', 'addition', 'market', 'basket', 'analysis', 'association', 'rules', 'employed', 'today', 'application', 'areas', 'including', 'web', 'usage', 'mining', 'intrusion', 'detection', 'continuous', 'production', 'bioinformatics', 'in', 'contrast', 'sequence', 'mining', 'association', 'rule', 'learning', 'typically', 'consider', 'order', 'items', 'either', 'within', 'transaction', 'across', 'transactions', 'learning', 'classifier', 'systems', 'lcs', 'family', 'rule', 'based', 'machine', 'learning', 'algorithms', 'combine', 'discovery', 'component', 'typically', 'genetic', 'algorithm', 'learning', 'component', 'performing', 'either', 'supervised', 'learning', 'reinforcement', 'learning', 'unsupervised', 'learning', 'they', 'seek', 'identify', 'set', 'context', 'dependent', 'rules', 'collectively', 'store', 'apply', 'knowledge', 'piecewise', 'manner', 'order', 'make', 'predictions', 'inductive', 'logic', 'programming', 'ilp', 'approach', 'rule', 'learning', 'using', 'logic', 'programming', 'uniform', 'representation', 'input', 'examples', 'background', 'knowledge', 'hypotheses', 'given', 'encoding', 'known', 'background', 'knowledge', 'set', 'examples', 'represented', 'logical', 'database', 'facts', 'ilp', 'system', 'derive', 'hypothesized', 'logic', 'program', 'entails', 'positive', 'negative', 'examples', 'inductive', 'programming', 'related', 'field', 'considers', 'kind', 'programming', 'languages', 'representing', 'hypotheses', 'logic', 'programming', 'functional', 'programs', 'inductive', 'logic', 'programming', 'particularly', 'useful', 'bioinformatics', 'natural', 'language', 'processing', 'gordon', 'plotkin', 'ehud', 'shapiro', 'laid', 'initial', 'theoretical', 'foundation', 'inductive', 'machine', 'learning', 'logical', 'setting', 'shapiro', 'built', 'first', 'implementation', 'model', 'inference', 'system', '1981', 'prolog', 'program', 'inductively', 'inferred', 'logic', 'programs', 'positive', 'negative', 'examples', 'the', 'term', 'inductive', 'refers', 'philosophical', 'induction', 'suggesting', 'theory', 'explain', 'observed', 'facts', 'rather', 'mathematical', 'induction', 'proving', 'property', 'members', 'well', 'ordered', 'set', 'models', 'performing', 'machine', 'learning', 'involves', 'creating', 'model', 'trained', 'training', 'data', 'process', 'additional', 'data', 'make', 'predictions', 'various', 'types', 'models', 'used', 'researched', 'machine', 'learning', 'systems', 'artificial', 'neural', 'networks', 'artificial', 'neural', 'networks', 'anns', 'connectionist', 'systems', 'computing', 'systems', 'vaguely', 'inspired', 'biological', 'neural', 'networks', 'constitute', 'animal', 'brains', 'such', 'systems', 'learn', 'perform', 'tasks', 'considering', 'examples', 'generally', 'without', 'programmed', 'task', 'specific', 'rules', 'an', 'ann', 'model', 'based', 'collection', 'connected', 'units', 'nodes', 'called', 'artificial', 'neurons', 'loosely', 'model', 'neurons', 'biological', 'brain', 'each', 'connection', 'like', 'synapses', 'biological', 'brain', 'transmit', 'information', 'signal', 'one', 'artificial', 'neuron', 'another', 'an', 'artificial', 'neuron', 'receives', 'signal', 'process', 'signal', 'additional', 'artificial', 'neurons', 'connected', 'in', 'common', 'ann', 'implementations', 'signal', 'connection', 'artificial', 'neurons', 'real', 'number', 'output', 'artificial', 'neuron', 'computed', 'non', 'linear', 'function', 'sum', 'inputs', 'the', 'connections', 'artificial', 'neurons', 'called', 'edges', 'artificial', 'neurons', 'edges', 'typically', 'weight', 'adjusts', 'learning', 'proceeds', 'the', 'weight', 'increases', 'decreases', 'strength', 'signal', 'connection', 'artificial', 'neurons', 'may', 'threshold', 'signal', 'sent', 'aggregate', 'signal', 'crosses', 'threshold', 'typically', 'artificial', 'neurons', 'aggregated', 'layers', 'different', 'layers', 'may', 'perform', 'different', 'kinds', 'transformations', 'inputs', 'signals', 'travel', 'first', 'layer', 'input', 'layer', 'last', 'layer', 'output', 'layer', 'possibly', 'traversing', 'layers', 'multiple', 'times', 'the', 'original', 'goal', 'ann', 'approach', 'solve', 'problems', 'way', 'human', 'brain', 'would', 'however', 'time', 'attention', 'moved', 'performing', 'specific', 'tasks', 'leading', 'deviations', 'biology', 'artificial', 'neural', 'networks', 'used', 'variety', 'tasks', 'including', 'computer', 'vision', 'speech', 'recognition', 'machine', 'translation', 'social', 'network', 'filtering', 'playing', 'board', 'video', 'games', 'medical', 'diagnosis', 'deep', 'learning', 'consists', 'multiple', 'hidden', 'layers', 'artificial', 'neural', 'network', 'this', 'approach', 'tries', 'model', 'way', 'human', 'brain', 'processes', 'light', 'sound', 'vision', 'hearing', 'some', 'successful', 'applications', 'deep', 'learning', 'computer', 'vision', 'speech', 'recognition', 'decision', 'trees', 'decision', 'tree', 'learning', 'uses', 'decision', 'tree', 'predictive', 'model', 'go', 'observations', 'item', 'represented', 'branches', 'conclusions', 'item', 'target', 'value', 'represented', 'leaves', 'it', 'one', 'predictive', 'modeling', 'approaches', 'used', 'statistics', 'data', 'mining', 'machine', 'learning', 'tree', 'models', 'target', 'variable', 'take', 'discrete', 'set', 'values', 'called', 'classification', 'trees', 'tree', 'structures', 'leaves', 'represent', 'class', 'labels', 'branches', 'represent', 'conjunctions', 'features', 'lead', 'class', 'labels', 'decision', 'trees', 'target', 'variable', 'take', 'continuous', 'values', 'typically', 'real', 'numbers', 'called', 'regression', 'trees', 'in', 'decision', 'analysis', 'decision', 'tree', 'used', 'visually', 'explicitly', 'represent', 'decisions', 'decision', 'making', 'in', 'data', 'mining', 'decision', 'tree', 'describes', 'data', 'resulting', 'classification', 'tree', 'input', 'decision', 'making', 'support', 'vector', 'machines', 'support', 'vector', 'machines', 'svms', 'also', 'known', 'support', 'vector', 'networks', 'set', 'related', 'supervised', 'learning', 'methods', 'used', 'classification', 'regression', 'given', 'set', 'training', 'examples', 'marked', 'belonging', 'one', 'two', 'categories', 'svm', 'training', 'algorithm', 'builds', 'model', 'predicts', 'whether', 'new', 'example', 'falls', 'one', 'category', 'an', 'svm', 'training', 'algorithm', 'non', 'probabilistic', 'binary', 'linear', 'classifier', 'although', 'methods', 'platt', 'scaling', 'exist', 'use', 'svm', 'probabilistic', 'classification', 'setting', 'in', 'addition', 'performing', 'linear', 'classification', 'svms', 'efficiently', 'perform', 'non', 'linear', 'classification', 'using', 'called', 'kernel', 'trick', 'implicitly', 'mapping', 'inputs', 'high', 'dimensional', 'feature', 'spaces', 'regression', 'analysis', 'regression', 'analysis', 'encompasses', 'large', 'variety', 'statistical', 'methods', 'estimate', 'relationship', 'input', 'variables', 'associated', 'features', 'its', 'common', 'form', 'linear', 'regression', 'single', 'line', 'drawn', 'best', 'fit', 'given', 'data', 'according', 'mathematical', 'criterion', 'ordinary', 'least', 'squares', 'the', 'latter', 'often', 'extended', 'regularization', 'mathematics', 'methods', 'mitigate', 'overfitting', 'bias', 'ridge', 'regression', 'when', 'dealing', 'non', 'linear', 'problems', 'go', 'models', 'include', 'polynomial', 'regression', 'example', 'used', 'trendline', 'fitting', 'microsoft', 'excel', 'logistic', 'regression', 'often', 'used', 'statistical', 'classification', 'even', 'kernel', 'regression', 'introduces', 'non', 'linearity', 'taking', 'advantage', 'kernel', 'trick', 'implicitly', 'map', 'input', 'variables', 'higher', 'dimensional', 'space', 'bayesian', 'networks', 'a', 'bayesian', 'network', 'belief', 'network', 'directed', 'acyclic', 'graphical', 'model', 'probabilistic', 'graphical', 'model', 'represents', 'set', 'random', 'variables', 'conditional', 'independence', 'directed', 'acyclic', 'graph', 'dag', 'for', 'example', 'bayesian', 'network', 'could', 'represent', 'probabilistic', 'relationships', 'diseases', 'symptoms', 'given', 'symptoms', 'network', 'used', 'compute', 'probabilities', 'presence', 'various', 'diseases', 'efficient', 'algorithms', 'exist', 'perform', 'inference', 'learning', 'bayesian', 'networks', 'model', 'sequences', 'variables', 'like', 'speech', 'signals', 'protein', 'sequences', 'called', 'dynamic', 'bayesian', 'networks', 'generalizations', 'bayesian', 'networks', 'represent', 'solve', 'decision', 'problems', 'uncertainty', 'called', 'influence', 'diagrams', 'genetic', 'algorithms', 'a', 'genetic', 'algorithm', 'ga', 'search', 'algorithm', 'heuristic', 'technique', 'mimics', 'process', 'natural', 'selection', 'using', 'methods', 'mutation', 'crossover', 'generate', 'new', 'genotypes', 'hope', 'finding', 'good', 'solutions', 'given', 'problem', 'in', 'machine', 'learning', 'genetic', 'algorithms', 'used', '1980s', '1990s', 'conversely', 'machine', 'learning', 'techniques', 'used', 'improve', 'performance', 'genetic', 'evolutionary', 'algorithms', 'training', 'models', 'usually', 'machine', 'learning', 'models', 'require', 'lot', 'data', 'order', 'perform', 'well', 'usually', 'training', 'machine', 'learning', 'model', 'one', 'needs', 'collect', 'large', 'representative', 'sample', 'data', 'training', 'set', 'data', 'training', 'set', 'varied', 'corpus', 'text', 'collection', 'images', 'data', 'collected', 'individual', 'users', 'service', 'overfitting', 'something', 'watch', 'training', 'machine', 'learning', 'model', 'federated', 'learning', 'federated', 'learning', 'new', 'approach', 'training', 'machine', 'learning', 'models', 'decentralizes', 'training', 'process', 'allowing', 'users', 'privacy', 'maintained', 'needing', 'send', 'data', 'centralized', 'server', 'this', 'also', 'increases', 'efficiency', 'decentralizing', 'training', 'process', 'many', 'devices', 'for', 'example', 'gboard', 'uses', 'federated', 'machine', 'learning', 'train', 'search', 'query', 'prediction', 'models', 'users', 'mobile', 'phones', 'without', 'send', 'individual', 'searches', 'back', 'google', 'applications', 'there', 'many', 'applications', 'machine', 'learning', 'including', 'in', '2006', 'media', 'services', 'provider', 'netflix', 'held', 'first', 'netflix', 'prize', 'competition', 'find', 'program', 'better', 'predict', 'user', 'preferences', 'improve', 'accuracy', 'existing', 'cinematch', 'movie', 'recommendation', 'algorithm', 'least', '10', 'a', 'joint', 'team', 'made', 'researchers', 'at', 't', 'labs', 'research', 'collaboration', 'teams', 'big', 'chaos', 'pragmatic', 'theory', 'built', 'ensemble', 'model', 'win', 'grand', 'prize', '2009', '1', 'million', 'shortly', 'prize', 'awarded', 'netflix', 'realized', 'viewers', 'ratings', 'best', 'indicators', 'viewing', 'patterns', 'everything', 'recommendation', 'changed', 'recommendation', 'engine', 'accordingly', 'in', '2010', 'the', 'wall', 'street', 'journal', 'wrote', 'firm', 'rebellion', 'research', 'use', 'machine', 'learning', 'predict', 'financial', 'crisis', 'in', '2012', 'co', 'founder', 'sun', 'microsystems', 'vinod', 'khosla', 'predicted', '80', 'medical', 'doctors', 'jobs', 'would', 'lost', 'next', 'two', 'decades', 'automated', 'machine', 'learning', 'medical', 'diagnostic', 'software', 'in', '2014', 'reported', 'machine', 'learning', 'algorithm', 'applied', 'field', 'art', 'history', 'study', 'fine', 'art', 'paintings', 'may', 'revealed', 'previously', 'unrecognized', 'influences', 'among', 'artists', 'in', '2019', 'springer', 'nature', 'published', 'first', 'research', 'book', 'created', 'using', 'machine', 'learning', 'limitations', 'although', 'machine', 'learning', 'transformative', 'fields', 'machine', 'learning', 'programs', 'often', 'fail', 'deliver', 'expected', 'results', 'reasons', 'numerous', 'lack', 'suitable', 'data', 'lack', 'access', 'data', 'data', 'bias', 'privacy', 'problems', 'badly', 'chosen', 'tasks', 'algorithms', 'wrong', 'tools', 'people', 'lack', 'resources', 'evaluation', 'problems', 'in', '2018', 'self', 'driving', 'car', 'uber', 'failed', 'detect', 'pedestrian', 'killed', 'collision', 'attempts', 'use', 'machine', 'learning', 'healthcare', 'ibm', 'watson', 'system', 'failed', 'deliver', 'even', 'years', 'time', 'billions', 'investment', 'bias', 'machine', 'learning', 'approaches', 'particular', 'suffer', 'different', 'data', 'biases', 'a', 'machine', 'learning', 'system', 'trained', 'current', 'customers', 'may', 'able', 'predict', 'needs', 'new', 'customer', 'groups', 'represented', 'training', 'data', 'when', 'trained', 'man', 'made', 'data', 'machine', 'learning', 'likely', 'pick', 'constitutional', 'unconscious', 'biases', 'already', 'present', 'society', 'language', 'models', 'learned', 'data', 'shown', 'contain', 'human', 'like', 'biases', 'machine', 'learning', 'systems', 'used', 'criminal', 'risk', 'assessment', 'found', 'biased', 'black', 'people', 'in', '2015', 'google', 'photos', 'would', 'often', 'tag', 'black', 'people', 'gorillas', '2018', 'still', 'well', 'resolved', 'google', 'reportedly', 'still', 'using', 'workaround', 'remove', 'gorillas', 'training', 'data', 'thus', 'able', 'recognize', 'real', 'gorillas', 'similar', 'issues', 'recognizing', 'non', 'white', 'people', 'found', 'many', 'systems', 'in', '2016', 'microsoft', 'tested', 'chatbot', 'learned', 'twitter', 'quickly', 'picked', 'racist', 'sexist', 'language', 'because', 'challenges', 'effective', 'use', 'machine', 'learning', 'may', 'take', 'longer', 'adopted', 'domains', 'concern', 'fairness', 'machine', 'learning', 'reducing', 'bias', 'machine', 'learning', 'propelling', 'use', 'human', 'good', 'increasingly', 'expressed', 'artificial', 'intelligence', 'scientists', 'including', 'fei', 'fei', 'li', 'reminds', 'engineers', 'there', 'nothing', 'artificial', 'ai', 'it', 'inspired', 'people', 'created', 'people', 'importantly', 'impacts', 'people', 'it', 'powerful', 'tool', 'beginning', 'understand', 'profound', 'responsibility', 'model', 'assessments', 'classification', 'machine', 'learning', 'models', 'validated', 'accuracy', 'estimation', 'techniques', 'like', 'holdout', 'method', 'splits', 'data', 'training', 'test', 'set', 'conventionally', '2', '3', 'training', 'set', '1', '3', 'test', 'set', 'designation', 'evaluates', 'performance', 'training', 'model', 'test', 'set', 'in', 'comparison', 'k', 'fold', 'cross', 'validation', 'method', 'randomly', 'partitions', 'data', 'k', 'subsets', 'k', 'experiments', 'performed', 'respectively', 'considering', '1', 'subset', 'evaluation', 'remaining', 'k', '1', 'subsets', 'training', 'model', 'in', 'addition', 'holdout', 'cross', 'validation', 'methods', 'bootstrap', 'samples', 'n', 'instances', 'replacement', 'dataset', 'used', 'assess', 'model', 'accuracy', 'in', 'addition', 'overall', 'accuracy', 'investigators', 'frequently', 'report', 'sensitivity', 'specificity', 'meaning', 'true', 'positive', 'rate', 'tpr', 'true', 'negative', 'rate', 'tnr', 'respectively', 'similarly', 'investigators', 'sometimes', 'report', 'false', 'positive', 'rate', 'fpr', 'well', 'false', 'negative', 'rate', 'fnr', 'however', 'rates', 'ratios', 'fail', 'reveal', 'numerators', 'denominators', 'the', 'total', 'operating', 'characteristic', 'toc', 'effective', 'method', 'express', 'model', 'diagnostic', 'ability', 'toc', 'shows', 'numerators', 'denominators', 'previously', 'mentioned', 'rates', 'thus', 'toc', 'provides', 'information', 'commonly', 'used', 'receiver', 'operating', 'characteristic', 'roc', 'roc', 'associated', 'area', 'under', 'curve', 'auc', 'ethics', 'machine', 'learning', 'poses', 'host', 'ethical', 'questions', 'systems', 'trained', 'datasets', 'collected', 'biases', 'may', 'exhibit', 'biases', 'upon', 'use', 'algorithmic', 'bias', 'thus', 'digitizing', 'cultural', 'prejudices', 'for', 'example', 'using', 'job', 'hiring', 'data', 'firm', 'racist', 'hiring', 'policies', 'may', 'lead', 'machine', 'learning', 'system', 'duplicating', 'bias', 'scoring', 'job', 'applicants', 'similarity', 'previous', 'successful', 'applicants', 'responsible', 'collection', 'data', 'documentation', 'algorithmic', 'rules', 'used', 'system', 'thus', 'critical', 'part', 'machine', 'learning', 'because', 'human', 'languages', 'contain', 'biases', 'machines', 'trained', 'language', 'corpora', 'necessarily', 'also', 'learn', 'biases', 'other', 'forms', 'ethical', 'challenges', 'related', 'personal', 'biases', 'seen', 'health', 'care', 'there', 'concerns', 'among', 'health', 'care', 'professionals', 'systems', 'might', 'designed', 'public', 'interest', 'income', 'generating', 'machines', 'this', 'especially', 'true', 'united', 'states', 'long', 'standing', 'ethical', 'dilemma', 'improving', 'health', 'care', 'also', 'increasing', 'profits', 'for', 'example', 'algorithms', 'could', 'designed', 'provide', 'patients', 'unnecessary', 'tests', 'medication', 'algorithm', 'proprietary', 'owners', 'hold', 'stakes', 'there', 'huge', 'potential', 'machine', 'learning', 'health', 'care', 'provide', 'professionals', 'great', 'tool', 'diagnose', 'medicate', 'even', 'plan', 'recovery', 'paths', 'patients', 'happen', 'personal', 'biases', 'mentioned', 'previously', 'greed', 'biases', 'addressed', 'software', 'software', 'suites', 'containing', 'variety', 'machine', 'learning', 'algorithms', 'include', 'following', 'free', 'open', 'source', 'software', 'proprietary', 'software', 'free', 'open', 'source', 'editions', 'proprietary', 'software', 'journals', 'journal', 'machine', 'learning', 'research', 'machine', 'learning', 'nature', 'machine', 'intelligence', 'neural', 'computation', 'conferences', 'conference', 'neural', 'information', 'processing', 'systems', 'international', 'conference', 'machine', 'learning', 'see', 'also', 'references', 'further', 'reading', 'external', 'links', 'international', 'machine', 'learning', 'society', 'mloss', 'academic', 'database', 'open', 'source', 'machine', 'learning', 'software', 'machine', 'learning', 'crash', 'course', 'google', 'this', 'free', 'course', 'machine', 'learning', 'use', 'tensorflow']\n"
     ]
    }
   ],
   "source": [
    "i = \"machine_learning.txt\"\n",
    "print(file_words[i].count('artificial'))\n",
    "print(len(file_words[i]))\n",
    "print(file_words[i])\n"
   ]
  },
  {
   "cell_type": "code",
   "execution_count": null,
   "metadata": {},
   "outputs": [],
   "source": []
  }
 ],
 "metadata": {
  "kernelspec": {
   "display_name": "Python 3.10.6 ('base')",
   "language": "python",
   "name": "python3"
  },
  "language_info": {
   "codemirror_mode": {
    "name": "ipython",
    "version": 3
   },
   "file_extension": ".py",
   "mimetype": "text/x-python",
   "name": "python",
   "nbconvert_exporter": "python",
   "pygments_lexer": "ipython3",
   "version": "3.10.6"
  },
  "orig_nbformat": 4,
  "vscode": {
   "interpreter": {
    "hash": "51aac96a1ad50adc7d4a1a596256386b3ce94cd59070594d461c13d85ed1cee1"
   }
  }
 },
 "nbformat": 4,
 "nbformat_minor": 2
}
